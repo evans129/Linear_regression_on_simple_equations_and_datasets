{
 "cells": [
  {
   "cell_type": "markdown",
   "id": "fdd85e3a",
   "metadata": {},
   "source": [
    "# Using Linear Regression and Polynomial regression on datasets and equations"
   ]
  },
  {
   "cell_type": "markdown",
   "id": "da6efbb7",
   "metadata": {},
   "source": [
    "#### Importing libraries"
   ]
  },
  {
   "cell_type": "code",
   "execution_count": 29,
   "id": "2d4d3835",
   "metadata": {},
   "outputs": [],
   "source": [
    "import numpy as np\n",
    "import pandas as pd\n",
    "import matplotlib.pyplot as plt\n",
    "from sklearn.metrics import r2_score\n",
    "from sklearn.preprocessing import PolynomialFeatures"
   ]
  },
  {
   "cell_type": "markdown",
   "id": "c0d7dfa0",
   "metadata": {},
   "source": [
    "#### using linear regression on equation having linear relation y=x"
   ]
  },
  {
   "cell_type": "code",
   "execution_count": 30,
   "id": "472c45f9",
   "metadata": {},
   "outputs": [],
   "source": [
    "x=np.array([1,2,3,4,5])\n",
    "x=x.reshape(-1,1)\n",
    "y=x.reshape(-1,1)\n",
    "from sklearn.linear_model import LinearRegression\n",
    "model=LinearRegression().fit(x,y)\n",
    "y_pred=model.predict(x)"
   ]
  },
  {
   "cell_type": "markdown",
   "id": "909f9233",
   "metadata": {},
   "source": [
    "#### Plotting linear regression model"
   ]
  },
  {
   "cell_type": "markdown",
   "id": "a09c885f",
   "metadata": {},
   "source": [
    "#### finding coefficent and intercepts"
   ]
  },
  {
   "cell_type": "code",
   "execution_count": 31,
   "id": "055556ca",
   "metadata": {},
   "outputs": [
    {
     "name": "stdout",
     "output_type": "stream",
     "text": [
      "the score is 1.0\n",
      "intercept= [-8.8817842e-16]\n",
      "coefficient= [[1.]]\n",
      "accuracy= 100.0 %\n"
     ]
    },
    {
     "data": {
      "image/png": "[encoded data removed]",
      "text/plain": [
       "<Figure size 432x288 with 1 Axes>"
      ]
     },
     "metadata": {
      "needs_background": "light"
     },
     "output_type": "display_data"
    }
   ],
   "source": [
    "plt.scatter(x,y,c='r')\n",
    "plt.plot(x,y_pred,c='b')\n",
    "plt.savefig('linear_regression_on_linearequation.png')\n",
    "print(\"the score is \",end=\"\")\n",
    "print(model.score(x,y))\n",
    "b=model.intercept_\n",
    "print(\"intercept=\",b)\n",
    "a=model.coef_\n",
    "print(\"coefficient=\",a)\n",
    "print(\"accuracy=\",100*model.score(x,y),\"%\")"
   ]
  },
  {
   "cell_type": "markdown",
   "id": "5ce4016d",
   "metadata": {},
   "source": [
    "#### testing y=x*x using linear regression"
   ]
  },
  {
   "cell_type": "code",
   "execution_count": 32,
   "id": "20abf247",
   "metadata": {
    "scrolled": true
   },
   "outputs": [],
   "source": [
    "x=np.array([1,2,3,4,5]).reshape(-1,1)\n",
    "y=x*x.reshape(-1,1)\n",
    "from sklearn.linear_model import LinearRegression\n",
    "model=LinearRegression().fit(x,y)\n",
    "y_pred=model.predict(x)"
   ]
  },
  {
   "cell_type": "markdown",
   "id": "07172350",
   "metadata": {},
   "source": [
    "#### plotting model and finding coefficient and intercept"
   ]
  },
  {
   "cell_type": "code",
   "execution_count": 33,
   "id": "1b22a40c",
   "metadata": {},
   "outputs": [
    {
     "name": "stdout",
     "output_type": "stream",
     "text": [
      "the score is 0.9625668449197861\n",
      "intercept= [-7.]\n",
      "coefficient= [[6.]]\n",
      "accuracy= 96.2566844919786 %\n"
     ]
    },
    {
     "data": {
      "image/png": "[encoded data removed]",
      "text/plain": [
       "<Figure size 432x288 with 1 Axes>"
      ]
     },
     "metadata": {
      "needs_background": "light"
     },
     "output_type": "display_data"
    }
   ],
   "source": [
    "plt.scatter(x,y,c='r')\n",
    "plt.plot(x,y_pred,c='b')\n",
    "plt.savefig('linear_regression_on_quadratic_relation.png')\n",
    "print(\"the score is \",end=\"\")\n",
    "print(model.score(x,y))\n",
    "b=model.intercept_\n",
    "print(\"intercept=\",b)\n",
    "a=model.coef_\n",
    "print(\"coefficient=\",a)\n",
    "print(\"accuracy=\",100*model.score(x,y),\"%\")"
   ]
  },
  {
   "cell_type": "markdown",
   "id": "f36d4370",
   "metadata": {},
   "source": [
    "#### using polynomial regression on y=x*x"
   ]
  },
  {
   "cell_type": "code",
   "execution_count": 34,
   "id": "513f1dd8",
   "metadata": {},
   "outputs": [],
   "source": [
    "x_=PolynomialFeatures(degree=2,include_bias=False).fit_transform(x)"
   ]
  },
  {
   "cell_type": "markdown",
   "id": "78214db6",
   "metadata": {},
   "source": [
    "#### training the model"
   ]
  },
  {
   "cell_type": "code",
   "execution_count": 35,
   "id": "2c75c606",
   "metadata": {},
   "outputs": [],
   "source": [
    "from sklearn.linear_model import LinearRegression\n",
    "model=LinearRegression().fit(x_,y)\n",
    "ypred=model.predict(x_)"
   ]
  },
  {
   "cell_type": "markdown",
   "id": "f9cc3c4f",
   "metadata": {},
   "source": [
    "#### plotting the polynomial regression model with pyplot"
   ]
  },
  {
   "cell_type": "code",
   "execution_count": 36,
   "id": "b3116782",
   "metadata": {},
   "outputs": [
    {
     "name": "stdout",
     "output_type": "stream",
     "text": [
      "1.0\n",
      "accuracy= 100.0 %\n"
     ]
    },
    {
     "data": {
      "image/png": "[encoded data removed]",
      "text/plain": [
       "<Figure size 432x288 with 1 Axes>"
      ]
     },
     "metadata": {
      "needs_background": "light"
     },
     "output_type": "display_data"
    }
   ],
   "source": [
    "plt.scatter(x,y)\n",
    "plt.plot(x,ypred)\n",
    "plt.savefig('polynomial_regression_on_quadratic_eqn.png')\n",
    "print(model.score(x_,y))\n",
    "print(\"accuracy=\",100*model.score(x_,y),\"%\")"
   ]
  },
  {
   "cell_type": "markdown",
   "id": "73f3d797",
   "metadata": {},
   "source": [
    "#### applying linear regression on iris dataset using few of its features"
   ]
  },
  {
   "cell_type": "code",
   "execution_count": 37,
   "id": "f7a5d8b1",
   "metadata": {},
   "outputs": [
    {
     "name": "stdout",
     "output_type": "stream",
     "text": [
      "      Id  SepalLengthCm  SepalWidthCm  PetalLengthCm  PetalWidthCm  \\\n",
      "0      1            5.1           3.5            1.4           0.2   \n",
      "1      2            4.9           3.0            1.4           0.2   \n",
      "2      3            4.7           3.2            1.3           0.2   \n",
      "3      4            4.6           3.1            1.5           0.2   \n",
      "4      5            5.0           3.6            1.4           0.2   \n",
      "..   ...            ...           ...            ...           ...   \n",
      "145  146            6.7           3.0            5.2           2.3   \n",
      "146  147            6.3           2.5            5.0           1.9   \n",
      "147  148            6.5           3.0            5.2           2.0   \n",
      "148  149            6.2           3.4            5.4           2.3   \n",
      "149  150            5.9           3.0            5.1           1.8   \n",
      "\n",
      "            Species  \n",
      "0       Iris-setosa  \n",
      "1       Iris-setosa  \n",
      "2       Iris-setosa  \n",
      "3       Iris-setosa  \n",
      "4       Iris-setosa  \n",
      "..              ...  \n",
      "145  Iris-virginica  \n",
      "146  Iris-virginica  \n",
      "147  Iris-virginica  \n",
      "148  Iris-virginica  \n",
      "149  Iris-virginica  \n",
      "\n",
      "[150 rows x 6 columns]\n"
     ]
    }
   ],
   "source": [
    "#iris.csv\n",
    "df=pd.read_csv(\"Iris.csv\")\n",
    "print(df)"
   ]
  },
  {
   "cell_type": "markdown",
   "id": "bc597e7c",
   "metadata": {},
   "source": [
    "#### using species as target"
   ]
  },
  {
   "cell_type": "code",
   "execution_count": 38,
   "id": "ea549b88",
   "metadata": {},
   "outputs": [],
   "source": [
    "df=df.drop(\"Species\",axis=1)"
   ]
  },
  {
   "cell_type": "code",
   "execution_count": 39,
   "id": "5ea2a9c9",
   "metadata": {},
   "outputs": [
    {
     "name": "stdout",
     "output_type": "stream",
     "text": [
      "      Id  SepalLengthCm  SepalWidthCm  PetalLengthCm  PetalWidthCm\n",
      "0      1            5.1           3.5            1.4           0.2\n",
      "1      2            4.9           3.0            1.4           0.2\n",
      "2      3            4.7           3.2            1.3           0.2\n",
      "3      4            4.6           3.1            1.5           0.2\n",
      "4      5            5.0           3.6            1.4           0.2\n",
      "..   ...            ...           ...            ...           ...\n",
      "145  146            6.7           3.0            5.2           2.3\n",
      "146  147            6.3           2.5            5.0           1.9\n",
      "147  148            6.5           3.0            5.2           2.0\n",
      "148  149            6.2           3.4            5.4           2.3\n",
      "149  150            5.9           3.0            5.1           1.8\n",
      "\n",
      "[150 rows x 5 columns]\n"
     ]
    }
   ],
   "source": [
    "print(df)"
   ]
  },
  {
   "cell_type": "code",
   "execution_count": 40,
   "id": "45c16800",
   "metadata": {},
   "outputs": [],
   "source": [
    "x=df.iloc[:,1:2]\n",
    "x=x.to_numpy()"
   ]
  },
  {
   "cell_type": "code",
   "execution_count": 41,
   "id": "92a05a61",
   "metadata": {},
   "outputs": [
    {
     "name": "stdout",
     "output_type": "stream",
     "text": [
      "[[5.1]\n",
      " [4.9]\n",
      " [4.7]\n",
      " [4.6]\n",
      " [5. ]\n",
      " [5.4]\n",
      " [4.6]\n",
      " [5. ]\n",
      " [4.4]\n",
      " [4.9]\n",
      " [5.4]\n",
      " [4.8]\n",
      " [4.8]\n",
      " [4.3]\n",
      " [5.8]\n",
      " [5.7]\n",
      " [5.4]\n",
      " [5.1]\n",
      " [5.7]\n",
      " [5.1]\n",
      " [5.4]\n",
      " [5.1]\n",
      " [4.6]\n",
      " [5.1]\n",
      " [4.8]\n",
      " [5. ]\n",
      " [5. ]\n",
      " [5.2]\n",
      " [5.2]\n",
      " [4.7]\n",
      " [4.8]\n",
      " [5.4]\n",
      " [5.2]\n",
      " [5.5]\n",
      " [4.9]\n",
      " [5. ]\n",
      " [5.5]\n",
      " [4.9]\n",
      " [4.4]\n",
      " [5.1]\n",
      " [5. ]\n",
      " [4.5]\n",
      " [4.4]\n",
      " [5. ]\n",
      " [5.1]\n",
      " [4.8]\n",
      " [5.1]\n",
      " [4.6]\n",
      " [5.3]\n",
      " [5. ]\n",
      " [7. ]\n",
      " [6.4]\n",
      " [6.9]\n",
      " [5.5]\n",
      " [6.5]\n",
      " [5.7]\n",
      " [6.3]\n",
      " [4.9]\n",
      " [6.6]\n",
      " [5.2]\n",
      " [5. ]\n",
      " [5.9]\n",
      " [6. ]\n",
      " [6.1]\n",
      " [5.6]\n",
      " [6.7]\n",
      " [5.6]\n",
      " [5.8]\n",
      " [6.2]\n",
      " [5.6]\n",
      " [5.9]\n",
      " [6.1]\n",
      " [6.3]\n",
      " [6.1]\n",
      " [6.4]\n",
      " [6.6]\n",
      " [6.8]\n",
      " [6.7]\n",
      " [6. ]\n",
      " [5.7]\n",
      " [5.5]\n",
      " [5.5]\n",
      " [5.8]\n",
      " [6. ]\n",
      " [5.4]\n",
      " [6. ]\n",
      " [6.7]\n",
      " [6.3]\n",
      " [5.6]\n",
      " [5.5]\n",
      " [5.5]\n",
      " [6.1]\n",
      " [5.8]\n",
      " [5. ]\n",
      " [5.6]\n",
      " [5.7]\n",
      " [5.7]\n",
      " [6.2]\n",
      " [5.1]\n",
      " [5.7]\n",
      " [6.3]\n",
      " [5.8]\n",
      " [7.1]\n",
      " [6.3]\n",
      " [6.5]\n",
      " [7.6]\n",
      " [4.9]\n",
      " [7.3]\n",
      " [6.7]\n",
      " [7.2]\n",
      " [6.5]\n",
      " [6.4]\n",
      " [6.8]\n",
      " [5.7]\n",
      " [5.8]\n",
      " [6.4]\n",
      " [6.5]\n",
      " [7.7]\n",
      " [7.7]\n",
      " [6. ]\n",
      " [6.9]\n",
      " [5.6]\n",
      " [7.7]\n",
      " [6.3]\n",
      " [6.7]\n",
      " [7.2]\n",
      " [6.2]\n",
      " [6.1]\n",
      " [6.4]\n",
      " [7.2]\n",
      " [7.4]\n",
      " [7.9]\n",
      " [6.4]\n",
      " [6.3]\n",
      " [6.1]\n",
      " [7.7]\n",
      " [6.3]\n",
      " [6.4]\n",
      " [6. ]\n",
      " [6.9]\n",
      " [6.7]\n",
      " [6.9]\n",
      " [5.8]\n",
      " [6.8]\n",
      " [6.7]\n",
      " [6.7]\n",
      " [6.3]\n",
      " [6.5]\n",
      " [6.2]\n",
      " [5.9]]\n"
     ]
    }
   ],
   "source": [
    "print(x)"
   ]
  },
  {
   "cell_type": "code",
   "execution_count": 42,
   "id": "720bc047",
   "metadata": {},
   "outputs": [],
   "source": [
    "y=df.iloc[:,3:4]\n",
    "y=y.to_numpy()"
   ]
  },
  {
   "cell_type": "code",
   "execution_count": 43,
   "id": "3fd6874f",
   "metadata": {},
   "outputs": [],
   "source": [
    "from sklearn.linear_model import LinearRegression\n",
    "model=LinearRegression()\n",
    "model=model.fit(x,y)"
   ]
  },
  {
   "cell_type": "code",
   "execution_count": 44,
   "id": "46e17f44",
   "metadata": {},
   "outputs": [],
   "source": [
    "y_pred=model.predict(x)"
   ]
  },
  {
   "cell_type": "code",
   "execution_count": 45,
   "id": "9b8ba57b",
   "metadata": {},
   "outputs": [
    {
     "data": {
      "image/png": "[encoded data removed]",
      "text/plain": [
       "<Figure size 432x288 with 1 Axes>"
      ]
     },
     "metadata": {
      "needs_background": "light"
     },
     "output_type": "display_data"
    }
   ],
   "source": [
    "import matplotlib.pyplot as plt\n",
    "plt.scatter(x,y)\n",
    "plt.plot(x,y_pred)\n",
    "plt.savefig('linear_regression_on_iris.png')"
   ]
  },
  {
   "cell_type": "code",
   "execution_count": 46,
   "id": "3ac47b28",
   "metadata": {},
   "outputs": [
    {
     "name": "stdout",
     "output_type": "stream",
     "text": [
      "0.7599553107783261\n"
     ]
    }
   ],
   "source": [
    "print(model.score(x,y))"
   ]
  },
  {
   "cell_type": "markdown",
   "id": "1aed42d3",
   "metadata": {},
   "source": [
    "#### using Polynomial Regesssion on iris dataset using species as target"
   ]
  },
  {
   "cell_type": "code",
   "execution_count": 47,
   "id": "1dff1b40",
   "metadata": {},
   "outputs": [],
   "source": [
    "from sklearn.preprocessing import PolynomialFeatures\n",
    "x_=PolynomialFeatures(degree=5,include_bias=False).fit_transform(x)\n",
    "from sklearn.linear_model import LinearRegression\n",
    "model=LinearRegression()\n",
    "model=model.fit(x_,y)\n",
    "ypred=model.predict(x_)"
   ]
  },
  {
   "cell_type": "code",
   "execution_count": 49,
   "id": "8c81e2ec",
   "metadata": {},
   "outputs": [
    {
     "data": {
      "image/png": "[encoded data removed]",
      "text/plain": [
       "<Figure size 432x288 with 1 Axes>"
      ]
     },
     "metadata": {
      "needs_background": "light"
     },
     "output_type": "display_data"
    }
   ],
   "source": [
    "plt.scatter(x,y)\n",
    "plt.plot(x,ypred)\n",
    "plt.savefig('polynomial_regression_on_iris.png')"
   ]
  },
  {
   "cell_type": "code",
   "execution_count": 50,
   "id": "6a9ed24f",
   "metadata": {},
   "outputs": [
    {
     "name": "stdout",
     "output_type": "stream",
     "text": [
      "0.7987501169944642\n"
     ]
    }
   ],
   "source": [
    "print(model.score(x_,y))"
   ]
  }
 ],
 "metadata": {
  "kernelspec": {
   "display_name": "Python 3 (ipykernel)",
   "language": "python",
   "name": "python3"
  },
  "language_info": {
   "codemirror_mode": {
    "name": "ipython",
    "version": 3
   },
   "file_extension": ".py",
   "mimetype": "text/x-python",
   "name": "python",
   "nbconvert_exporter": "python",
   "pygments_lexer": "ipython3",
   "version": "3.9.7"
  }
 },
 "nbformat": 4,
 "nbformat_minor": 5
}
